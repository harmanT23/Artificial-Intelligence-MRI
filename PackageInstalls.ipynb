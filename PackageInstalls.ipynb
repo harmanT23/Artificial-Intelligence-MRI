{
 "cells": [
  {
   "cell_type": "code",
   "execution_count": 1,
   "metadata": {},
   "outputs": [],
   "source": [
    "import torch"
   ]
  },
  {
   "cell_type": "code",
   "execution_count": 2,
   "metadata": {},
   "outputs": [
    {
     "data": {
      "text/plain": [
       "1"
      ]
     },
     "execution_count": 2,
     "metadata": {},
     "output_type": "execute_result"
    }
   ],
   "source": [
    "torch.cuda.device_count()"
   ]
  },
  {
   "cell_type": "code",
   "execution_count": 3,
   "metadata": {},
   "outputs": [
    {
     "name": "stdout",
     "output_type": "stream",
     "text": [
      "credentials.json  quickstart.py     singlecoil_val\n",
      "fastMRI\t\t  singlecoil_test   tutorials\n",
      "jupyter-drive\t  singlecoil_train  Untitled.ipynb\n"
     ]
    }
   ],
   "source": [
    "! ls"
   ]
  },
  {
   "cell_type": "code",
   "execution_count": 4,
   "metadata": {},
   "outputs": [
    {
     "name": "stdout",
     "output_type": "stream",
     "text": [
      "fatal: destination path 'fastMRI' already exists and is not an empty directory.\n"
     ]
    }
   ],
   "source": [
    "! git clone https://github.com/facebookresearch/fastMRI.git"
   ]
  },
  {
   "cell_type": "code",
   "execution_count": 12,
   "metadata": {},
   "outputs": [
    {
     "name": "stdout",
     "output_type": "stream",
     "text": [
      "/home/jupyter/fastMRI\n",
      "banding_removal     CONTRIBUTING.md  fastMRI_tutorial.ipynb  README.md\n",
      "CODE_OF_CONDUCT.md  data\t     LICENSE.md\t\t     requirements.txt\n",
      "common\t\t    experiments      models\n"
     ]
    }
   ],
   "source": [
    "%cd fastMRI/\n",
    "! ls"
   ]
  },
  {
   "cell_type": "code",
   "execution_count": 19,
   "metadata": {},
   "outputs": [
    {
     "name": "stdout",
     "output_type": "stream",
     "text": [
      "Collecting atomicwrites==1.2.1\n",
      "  Downloading atomicwrites-1.2.1-py2.py3-none-any.whl (5.9 kB)\n",
      "Collecting attrs==18.2.0\n",
      "  Downloading attrs-18.2.0-py2.py3-none-any.whl (34 kB)\n",
      "Collecting certifi==2018.10.15\n",
      "  Downloading certifi-2018.10.15-py2.py3-none-any.whl (146 kB)\n",
      "\u001b[K     |████████████████████████████████| 146 kB 8.8 MB/s eta 0:00:01\n",
      "\u001b[?25hCollecting cffi==1.11.5\n",
      "  Downloading cffi-1.11.5-cp37-cp37m-manylinux1_x86_64.whl (421 kB)\n",
      "\u001b[K     |████████████████████████████████| 421 kB 47.6 MB/s eta 0:00:01\n",
      "\u001b[?25hCollecting cloudpickle==0.6.1\n",
      "  Downloading cloudpickle-0.6.1-py2.py3-none-any.whl (14 kB)\n",
      "Requirement already satisfied: cycler==0.10.0 in /opt/conda/lib/python3.7/site-packages (from -r requirements.txt (line 6)) (0.10.0)\n",
      "Collecting dask==0.20.2\n",
      "  Downloading dask-0.20.2-py2.py3-none-any.whl (686 kB)\n",
      "\u001b[K     |████████████████████████████████| 686 kB 42.7 MB/s eta 0:00:01\n",
      "\u001b[?25hCollecting decorator==4.3.0\n",
      "  Downloading decorator-4.3.0-py2.py3-none-any.whl (9.2 kB)\n",
      "Requirement already satisfied: h5py==2.8.0 in /opt/conda/lib/python3.7/site-packages (from -r requirements.txt (line 9)) (2.8.0)\n",
      "Collecting imageio==2.4.1\n",
      "  Downloading imageio-2.4.1.tar.gz (3.3 MB)\n",
      "\u001b[K     |████████████████████████████████| 3.3 MB 53.9 MB/s eta 0:00:01\n",
      "\u001b[?25hCollecting kiwisolver==1.0.1\n",
      "  Downloading kiwisolver-1.0.1-cp37-cp37m-manylinux1_x86_64.whl (89 kB)\n",
      "\u001b[K     |████████████████████████████████| 89 kB 11.6 MB/s eta 0:00:01\n",
      "\u001b[?25hCollecting matplotlib==3.0.1\n",
      "  Downloading matplotlib-3.0.1-cp37-cp37m-manylinux1_x86_64.whl (12.9 MB)\n",
      "\u001b[K     |████████████████████████████████| 12.9 MB 17.5 MB/s eta 0:00:01\n",
      "\u001b[?25hCollecting more-itertools==4.3.0\n",
      "  Downloading more_itertools-4.3.0-py3-none-any.whl (48 kB)\n",
      "\u001b[K     |████████████████████████████████| 48 kB 7.4 MB/s  eta 0:00:01\n",
      "\u001b[?25hCollecting networkx==2.2\n",
      "  Downloading networkx-2.2.zip (1.7 MB)\n",
      "\u001b[K     |████████████████████████████████| 1.7 MB 41.5 MB/s eta 0:00:01\n",
      "\u001b[?25hCollecting numpy==1.15.4\n",
      "  Downloading numpy-1.15.4-cp37-cp37m-manylinux1_x86_64.whl (13.8 MB)\n",
      "\u001b[K     |████████████████████████████████| 13.8 MB 32.0 MB/s eta 0:00:01\n",
      "\u001b[?25hRequirement already satisfied: olefile==0.46 in /opt/conda/lib/python3.7/site-packages (from -r requirements.txt (line 16)) (0.46)\n",
      "Collecting Pillow==6.2.0\n",
      "  Downloading Pillow-6.2.0-cp37-cp37m-manylinux1_x86_64.whl (2.1 MB)\n",
      "\u001b[K     |████████████████████████████████| 2.1 MB 39.1 MB/s eta 0:00:01\n",
      "\u001b[?25hCollecting pluggy==0.8.0\n",
      "  Downloading pluggy-0.8.0-py2.py3-none-any.whl (17 kB)\n",
      "Collecting protobuf==3.6.1\n",
      "  Downloading protobuf-3.6.1-cp37-cp37m-manylinux1_x86_64.whl (1.1 MB)\n",
      "\u001b[K     |████████████████████████████████| 1.1 MB 42.9 MB/s eta 0:00:01\n",
      "\u001b[?25hCollecting py==1.7.0\n",
      "  Downloading py-1.7.0-py2.py3-none-any.whl (83 kB)\n",
      "\u001b[K     |████████████████████████████████| 83 kB 3.3 MB/s  eta 0:00:01\n",
      "\u001b[?25hCollecting pycparser==2.19\n",
      "  Downloading pycparser-2.19.tar.gz (158 kB)\n",
      "\u001b[K     |████████████████████████████████| 158 kB 55.6 MB/s eta 0:00:01\n",
      "\u001b[?25hCollecting pyparsing==2.3.0\n",
      "  Downloading pyparsing-2.3.0-py2.py3-none-any.whl (59 kB)\n",
      "\u001b[K     |████████████████████████████████| 59 kB 7.6 MB/s  eta 0:00:01\n",
      "\u001b[?25hCollecting pytest==4.0.0\n",
      "  Downloading pytest-4.0.0-py2.py3-none-any.whl (217 kB)\n",
      "\u001b[K     |████████████████████████████████| 217 kB 38.4 MB/s eta 0:00:01\n",
      "\u001b[?25hCollecting python-dateutil==2.7.5\n",
      "  Downloading python_dateutil-2.7.5-py2.py3-none-any.whl (225 kB)\n",
      "\u001b[K     |████████████████████████████████| 225 kB 44.2 MB/s eta 0:00:01\n",
      "\u001b[?25hCollecting pytz==2018.7\n",
      "  Downloading pytz-2018.7-py2.py3-none-any.whl (506 kB)\n",
      "\u001b[K     |████████████████████████████████| 506 kB 56.8 MB/s eta 0:00:01\n",
      "\u001b[?25hCollecting PyWavelets==1.0.1\n",
      "  Downloading PyWavelets-1.0.1-cp37-cp37m-manylinux1_x86_64.whl (4.4 MB)\n",
      "\u001b[K     |████████████████████████████████| 4.4 MB 52.2 MB/s eta 0:00:01\n",
      "\u001b[?25hCollecting runstats==1.7.1\n",
      "  Downloading runstats-1.7.1.tar.gz (173 kB)\n",
      "\u001b[K     |████████████████████████████████| 173 kB 55.8 MB/s eta 0:00:01\n",
      "\u001b[?25hCollecting scikit-image==0.14.0\n",
      "  Downloading scikit_image-0.14.0-cp37-cp37m-manylinux1_x86_64.whl (25.3 MB)\n",
      "\u001b[K     |████████████████████████████████| 25.3 MB 21.9 MB/s eta 0:00:01\n",
      "\u001b[?25hCollecting scipy==1.1.0\n",
      "  Downloading scipy-1.1.0-cp37-cp37m-manylinux1_x86_64.whl (31.2 MB)\n",
      "\u001b[K     |████████████████████████████████| 31.2 MB 18.8 MB/s eta 0:00:01\n",
      "\u001b[?25hCollecting six==1.11.0\n",
      "  Downloading six-1.11.0-py2.py3-none-any.whl (10 kB)\n",
      "Collecting tensorboardX==1.4\n",
      "  Downloading tensorboardX-1.4-py2.py3-none-any.whl (67 kB)\n",
      "\u001b[K     |████████████████████████████████| 67 kB 7.8 MB/s  eta 0:00:01\n",
      "\u001b[?25hCollecting toolz==0.9.0\n",
      "  Downloading toolz-0.9.0.tar.gz (45 kB)\n",
      "\u001b[K     |████████████████████████████████| 45 kB 5.4 MB/s  eta 0:00:01\n",
      "\u001b[?25hCollecting tornado==5.1.1\n",
      "  Downloading tornado-5.1.1.tar.gz (516 kB)\n",
      "\u001b[K     |████████████████████████████████| 516 kB 48.7 MB/s eta 0:00:01\n",
      "\u001b[?25hRequirement already satisfied: torch==1.4.0 in /opt/conda/lib/python3.7/site-packages (from -r requirements.txt (line 34)) (1.4.0)\n",
      "Collecting torchvision==0.5.0\n",
      "  Downloading torchvision-0.5.0-cp37-cp37m-manylinux1_x86_64.whl (4.0 MB)\n",
      "\u001b[K     |████████████████████████████████| 4.0 MB 37.3 MB/s eta 0:00:01\n",
      "\u001b[31mERROR: Could not find a version that satisfies the requirement pytorch-lighting==0.6.0 (from -r requirements.txt (line 36)) (from versions: none)\u001b[0m\n",
      "\u001b[31mERROR: No matching distribution found for pytorch-lighting==0.6.0 (from -r requirements.txt (line 36))\u001b[0m\n",
      "\u001b[?25h"
     ]
    }
   ],
   "source": [
    "!pip3 install -r requirements.txt"
   ]
  },
  {
   "cell_type": "code",
   "execution_count": 5,
   "metadata": {},
   "outputs": [
    {
     "name": "stdout",
     "output_type": "stream",
     "text": [
      "Requirement already satisfied: test-tube in /opt/conda/lib/python3.7/site-packages (0.7.5)\n",
      "Requirement already satisfied: future in /opt/conda/lib/python3.7/site-packages (from test-tube) (0.18.2)\n",
      "Requirement already satisfied: tensorboard>=1.15.0 in /opt/conda/lib/python3.7/site-packages (from test-tube) (2.1.1)\n",
      "Requirement already satisfied: imageio>=2.3.0 in /opt/conda/lib/python3.7/site-packages (from test-tube) (2.8.0)\n",
      "Requirement already satisfied: torch>=1.1.0 in /opt/conda/lib/python3.7/site-packages (from test-tube) (1.4.0)\n",
      "Requirement already satisfied: numpy>=1.13.3 in /opt/conda/lib/python3.7/site-packages (from test-tube) (1.18.1)\n",
      "Requirement already satisfied: pandas>=0.20.3 in /opt/conda/lib/python3.7/site-packages (from test-tube) (1.0.2)\n",
      "Requirement already satisfied: wheel>=0.26; python_version >= \"3\" in /opt/conda/lib/python3.7/site-packages (from tensorboard>=1.15.0->test-tube) (0.34.2)\n",
      "Requirement already satisfied: google-auth-oauthlib<0.5,>=0.4.1 in /opt/conda/lib/python3.7/site-packages (from tensorboard>=1.15.0->test-tube) (0.4.1)\n",
      "Requirement already satisfied: google-auth<2,>=1.6.3 in /opt/conda/lib/python3.7/site-packages (from tensorboard>=1.15.0->test-tube) (1.11.2)\n",
      "Requirement already satisfied: setuptools>=41.0.0 in /opt/conda/lib/python3.7/site-packages (from tensorboard>=1.15.0->test-tube) (46.0.0.post20200311)\n",
      "Requirement already satisfied: grpcio>=1.24.3 in /opt/conda/lib/python3.7/site-packages (from tensorboard>=1.15.0->test-tube) (1.27.2)\n",
      "Requirement already satisfied: requests<3,>=2.21.0 in /opt/conda/lib/python3.7/site-packages (from tensorboard>=1.15.0->test-tube) (2.23.0)\n",
      "Requirement already satisfied: markdown>=2.6.8 in /opt/conda/lib/python3.7/site-packages (from tensorboard>=1.15.0->test-tube) (3.2.1)\n",
      "Requirement already satisfied: absl-py>=0.4 in /opt/conda/lib/python3.7/site-packages (from tensorboard>=1.15.0->test-tube) (0.9.0)\n",
      "Requirement already satisfied: werkzeug>=0.11.15 in /opt/conda/lib/python3.7/site-packages (from tensorboard>=1.15.0->test-tube) (1.0.0)\n",
      "Requirement already satisfied: protobuf>=3.6.0 in /opt/conda/lib/python3.7/site-packages (from tensorboard>=1.15.0->test-tube) (3.11.4)\n",
      "Requirement already satisfied: six>=1.10.0 in /opt/conda/lib/python3.7/site-packages (from tensorboard>=1.15.0->test-tube) (1.14.0)\n",
      "Requirement already satisfied: pillow in /opt/conda/lib/python3.7/site-packages (from imageio>=2.3.0->test-tube) (6.1.0)\n",
      "Requirement already satisfied: python-dateutil>=2.6.1 in /opt/conda/lib/python3.7/site-packages (from pandas>=0.20.3->test-tube) (2.8.1)\n",
      "Requirement already satisfied: pytz>=2017.2 in /opt/conda/lib/python3.7/site-packages (from pandas>=0.20.3->test-tube) (2019.3)\n",
      "Requirement already satisfied: requests-oauthlib>=0.7.0 in /opt/conda/lib/python3.7/site-packages (from google-auth-oauthlib<0.5,>=0.4.1->tensorboard>=1.15.0->test-tube) (1.2.0)\n",
      "Requirement already satisfied: cachetools<5.0,>=2.0.0 in /opt/conda/lib/python3.7/site-packages (from google-auth<2,>=1.6.3->tensorboard>=1.15.0->test-tube) (3.1.1)\n",
      "Requirement already satisfied: rsa<4.1,>=3.1.4 in /opt/conda/lib/python3.7/site-packages (from google-auth<2,>=1.6.3->tensorboard>=1.15.0->test-tube) (4.0)\n",
      "Requirement already satisfied: pyasn1-modules>=0.2.1 in /opt/conda/lib/python3.7/site-packages (from google-auth<2,>=1.6.3->tensorboard>=1.15.0->test-tube) (0.2.7)\n",
      "Requirement already satisfied: urllib3!=1.25.0,!=1.25.1,<1.26,>=1.21.1 in /opt/conda/lib/python3.7/site-packages (from requests<3,>=2.21.0->tensorboard>=1.15.0->test-tube) (1.25.7)\n",
      "Requirement already satisfied: chardet<4,>=3.0.2 in /opt/conda/lib/python3.7/site-packages (from requests<3,>=2.21.0->tensorboard>=1.15.0->test-tube) (3.0.4)\n",
      "Requirement already satisfied: certifi>=2017.4.17 in /opt/conda/lib/python3.7/site-packages (from requests<3,>=2.21.0->tensorboard>=1.15.0->test-tube) (2019.11.28)\n",
      "Requirement already satisfied: idna<3,>=2.5 in /opt/conda/lib/python3.7/site-packages (from requests<3,>=2.21.0->tensorboard>=1.15.0->test-tube) (2.9)\n",
      "Requirement already satisfied: oauthlib>=3.0.0 in /opt/conda/lib/python3.7/site-packages (from requests-oauthlib>=0.7.0->google-auth-oauthlib<0.5,>=0.4.1->tensorboard>=1.15.0->test-tube) (3.0.1)\n",
      "Requirement already satisfied: pyasn1>=0.1.3 in /opt/conda/lib/python3.7/site-packages (from rsa<4.1,>=3.1.4->google-auth<2,>=1.6.3->tensorboard>=1.15.0->test-tube) (0.4.8)\n",
      "Requirement already satisfied: pytorch-lightning==0.6.0 in /opt/conda/lib/python3.7/site-packages (0.6.0)\n",
      "Requirement already satisfied: torch>=1.1 in /opt/conda/lib/python3.7/site-packages (from pytorch-lightning==0.6.0) (1.4.0)\n",
      "Requirement already satisfied: torchvision<0.5,>=0.4.0 in /opt/conda/lib/python3.7/site-packages (from pytorch-lightning==0.6.0) (0.4.2)\n",
      "Requirement already satisfied: scikit-learn>=0.20.2 in /opt/conda/lib/python3.7/site-packages (from pytorch-lightning==0.6.0) (0.22.2.post1)\n",
      "Requirement already satisfied: numpy>=1.16.4 in /opt/conda/lib/python3.7/site-packages (from pytorch-lightning==0.6.0) (1.18.1)\n",
      "Requirement already satisfied: tqdm>=4.35.0 in /opt/conda/lib/python3.7/site-packages (from pytorch-lightning==0.6.0) (4.43.0)\n",
      "Requirement already satisfied: pandas>=0.24 in /opt/conda/lib/python3.7/site-packages (from pytorch-lightning==0.6.0) (1.0.2)\n",
      "Requirement already satisfied: tensorboard>=1.14 in /opt/conda/lib/python3.7/site-packages (from pytorch-lightning==0.6.0) (2.1.1)\n",
      "Requirement already satisfied: future>=0.17.1 in /opt/conda/lib/python3.7/site-packages (from pytorch-lightning==0.6.0) (0.18.2)\n",
      "Requirement already satisfied: six in /opt/conda/lib/python3.7/site-packages (from torchvision<0.5,>=0.4.0->pytorch-lightning==0.6.0) (1.14.0)\n",
      "Requirement already satisfied: pillow>=4.1.1 in /opt/conda/lib/python3.7/site-packages (from torchvision<0.5,>=0.4.0->pytorch-lightning==0.6.0) (6.1.0)\n",
      "Requirement already satisfied: scipy>=0.17.0 in /opt/conda/lib/python3.7/site-packages (from scikit-learn>=0.20.2->pytorch-lightning==0.6.0) (1.4.1)\n",
      "Requirement already satisfied: joblib>=0.11 in /opt/conda/lib/python3.7/site-packages (from scikit-learn>=0.20.2->pytorch-lightning==0.6.0) (0.14.1)\n",
      "Requirement already satisfied: python-dateutil>=2.6.1 in /opt/conda/lib/python3.7/site-packages (from pandas>=0.24->pytorch-lightning==0.6.0) (2.8.1)\n",
      "Requirement already satisfied: pytz>=2017.2 in /opt/conda/lib/python3.7/site-packages (from pandas>=0.24->pytorch-lightning==0.6.0) (2019.3)\n",
      "Requirement already satisfied: absl-py>=0.4 in /opt/conda/lib/python3.7/site-packages (from tensorboard>=1.14->pytorch-lightning==0.6.0) (0.9.0)\n",
      "Requirement already satisfied: markdown>=2.6.8 in /opt/conda/lib/python3.7/site-packages (from tensorboard>=1.14->pytorch-lightning==0.6.0) (3.2.1)\n",
      "Requirement already satisfied: requests<3,>=2.21.0 in /opt/conda/lib/python3.7/site-packages (from tensorboard>=1.14->pytorch-lightning==0.6.0) (2.23.0)\n",
      "Requirement already satisfied: setuptools>=41.0.0 in /opt/conda/lib/python3.7/site-packages (from tensorboard>=1.14->pytorch-lightning==0.6.0) (46.0.0.post20200311)\n",
      "Requirement already satisfied: google-auth-oauthlib<0.5,>=0.4.1 in /opt/conda/lib/python3.7/site-packages (from tensorboard>=1.14->pytorch-lightning==0.6.0) (0.4.1)\n",
      "Requirement already satisfied: werkzeug>=0.11.15 in /opt/conda/lib/python3.7/site-packages (from tensorboard>=1.14->pytorch-lightning==0.6.0) (1.0.0)\n",
      "Requirement already satisfied: protobuf>=3.6.0 in /opt/conda/lib/python3.7/site-packages (from tensorboard>=1.14->pytorch-lightning==0.6.0) (3.11.4)\n",
      "Requirement already satisfied: google-auth<2,>=1.6.3 in /opt/conda/lib/python3.7/site-packages (from tensorboard>=1.14->pytorch-lightning==0.6.0) (1.11.2)\n",
      "Requirement already satisfied: wheel>=0.26; python_version >= \"3\" in /opt/conda/lib/python3.7/site-packages (from tensorboard>=1.14->pytorch-lightning==0.6.0) (0.34.2)\n",
      "Requirement already satisfied: grpcio>=1.24.3 in /opt/conda/lib/python3.7/site-packages (from tensorboard>=1.14->pytorch-lightning==0.6.0) (1.27.2)\n",
      "Requirement already satisfied: urllib3!=1.25.0,!=1.25.1,<1.26,>=1.21.1 in /opt/conda/lib/python3.7/site-packages (from requests<3,>=2.21.0->tensorboard>=1.14->pytorch-lightning==0.6.0) (1.25.7)\n",
      "Requirement already satisfied: certifi>=2017.4.17 in /opt/conda/lib/python3.7/site-packages (from requests<3,>=2.21.0->tensorboard>=1.14->pytorch-lightning==0.6.0) (2019.11.28)\n",
      "Requirement already satisfied: chardet<4,>=3.0.2 in /opt/conda/lib/python3.7/site-packages (from requests<3,>=2.21.0->tensorboard>=1.14->pytorch-lightning==0.6.0) (3.0.4)\n",
      "Requirement already satisfied: idna<3,>=2.5 in /opt/conda/lib/python3.7/site-packages (from requests<3,>=2.21.0->tensorboard>=1.14->pytorch-lightning==0.6.0) (2.9)\n",
      "Requirement already satisfied: requests-oauthlib>=0.7.0 in /opt/conda/lib/python3.7/site-packages (from google-auth-oauthlib<0.5,>=0.4.1->tensorboard>=1.14->pytorch-lightning==0.6.0) (1.2.0)\n",
      "Requirement already satisfied: pyasn1-modules>=0.2.1 in /opt/conda/lib/python3.7/site-packages (from google-auth<2,>=1.6.3->tensorboard>=1.14->pytorch-lightning==0.6.0) (0.2.7)\n",
      "Requirement already satisfied: rsa<4.1,>=3.1.4 in /opt/conda/lib/python3.7/site-packages (from google-auth<2,>=1.6.3->tensorboard>=1.14->pytorch-lightning==0.6.0) (4.0)\n",
      "Requirement already satisfied: cachetools<5.0,>=2.0.0 in /opt/conda/lib/python3.7/site-packages (from google-auth<2,>=1.6.3->tensorboard>=1.14->pytorch-lightning==0.6.0) (3.1.1)\n",
      "Requirement already satisfied: oauthlib>=3.0.0 in /opt/conda/lib/python3.7/site-packages (from requests-oauthlib>=0.7.0->google-auth-oauthlib<0.5,>=0.4.1->tensorboard>=1.14->pytorch-lightning==0.6.0) (3.0.1)\n",
      "Requirement already satisfied: pyasn1<0.5.0,>=0.4.6 in /opt/conda/lib/python3.7/site-packages (from pyasn1-modules>=0.2.1->google-auth<2,>=1.6.3->tensorboard>=1.14->pytorch-lightning==0.6.0) (0.4.8)\n"
     ]
    }
   ],
   "source": [
    "! pip3 install test-tube\n",
    "! pip3 install pytorch-lightning==0.6.0"
   ]
  },
  {
   "cell_type": "code",
   "execution_count": 6,
   "metadata": {},
   "outputs": [
    {
     "name": "stdout",
     "output_type": "stream",
     "text": [
      "Requirement already satisfied: Pillow==6.1 in /opt/conda/lib/python3.7/site-packages (6.1.0)\n"
     ]
    }
   ],
   "source": [
    "! python -m pip install Pillow==6.1"
   ]
  },
  {
   "cell_type": "code",
   "execution_count": 7,
   "metadata": {},
   "outputs": [
    {
     "name": "stdout",
     "output_type": "stream",
     "text": [
      "Requirement already satisfied: runstats in /opt/conda/lib/python3.7/site-packages (1.8.0)\n"
     ]
    }
   ],
   "source": [
    "! pip install runstats"
   ]
  },
  {
   "cell_type": "code",
   "execution_count": 8,
   "metadata": {},
   "outputs": [
    {
     "name": "stdout",
     "output_type": "stream",
     "text": [
      "cp: cannot stat 'common/': No such file or directory\n",
      "cp: cannot stat 'data/': No such file or directory\n",
      "cp: cannot stat 'models/mri_model.py': No such file or directory\n"
     ]
    }
   ],
   "source": [
    "! cp -r common/ models/unet/\n",
    "! cp -r data/ models/unet/\n",
    "! cp models/mri_model.py models/unet/"
   ]
  },
  {
   "cell_type": "code",
   "execution_count": 9,
   "metadata": {},
   "outputs": [
    {
     "name": "stdout",
     "output_type": "stream",
     "text": [
      "jupyter\n"
     ]
    }
   ],
   "source": [
    "! ls ../"
   ]
  },
  {
   "cell_type": "code",
   "execution_count": 10,
   "metadata": {},
   "outputs": [
    {
     "name": "stdout",
     "output_type": "stream",
     "text": [
      "Requirement already satisfied: h5py==2.8.0 in /opt/conda/lib/python3.7/site-packages (2.8.0)\n",
      "Requirement already satisfied: six in /opt/conda/lib/python3.7/site-packages (from h5py==2.8.0) (1.14.0)\n",
      "Requirement already satisfied: numpy>=1.7 in /opt/conda/lib/python3.7/site-packages (from h5py==2.8.0) (1.18.1)\n"
     ]
    }
   ],
   "source": [
    "! pip3 install h5py==2.8.0"
   ]
  },
  {
   "cell_type": "code",
   "execution_count": null,
   "metadata": {},
   "outputs": [],
   "source": []
  }
 ],
 "metadata": {
  "kernelspec": {
   "display_name": "Python 3",
   "language": "python",
   "name": "python3"
  },
  "language_info": {
   "codemirror_mode": {
    "name": "ipython",
    "version": 3
   },
   "file_extension": ".py",
   "mimetype": "text/x-python",
   "name": "python",
   "nbconvert_exporter": "python",
   "pygments_lexer": "ipython3",
   "version": "3.7.6"
  }
 },
 "nbformat": 4,
 "nbformat_minor": 4
}
